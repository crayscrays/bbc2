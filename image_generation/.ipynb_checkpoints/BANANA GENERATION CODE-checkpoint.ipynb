{
 "cells": [
  {
   "cell_type": "code",
   "execution_count": 18,
   "metadata": {},
   "outputs": [],
   "source": [
    "from PIL import Image, ImageOps\n",
    "from IPython.display import display\n",
    "import random\n",
    "import json\n"
   ]
  },
  {
   "cell_type": "code",
   "execution_count": 32,
   "metadata": {},
   "outputs": [],
   "source": [
    "### NECESSARY INFO\n",
    "\n",
    "background = [\"Mint\", \"Baby Cyan\", \"Baby Yellow\", \"Baby Pink\", \"Grey\", \"Baby Blue\"] #6 types\n",
    "backgroundweights = [30, 20, 20, 12.5, 5, 12.5]\n",
    "\n",
    "body = [\"Blue\", \"Pink\", \"Cyan\", \"Orange\", \"Pink Purple\", \"White\", \"Cyan Blue\", \"Koi\", \"Calico\", \"Dalmation\", \"Black\"] #11 types\n",
    "bodyweights = [15, 12.5, 15, 12.5, 5, 10, 5, 5, 5, 5, 10]\n",
    "\n",
    "fipper = [\"Blue\", \"Pink\", \"Cyan\", \"Pink Purple\", \"Orange\", \"White\", \"Cyan Blue\", \"Black\"] #8 types\n",
    "fipperweights = [30, 10, 10, 10, 10, 10, 10, 10]\n",
    "\n",
    "head = [\"Holy Water\", \"Smoke\", \"Smoke Ring\", \"Fountain\", \"None\"] # 5 types\n",
    "headweights = [5, 10, 15, 20, 50]\n",
    "\n",
    "\n",
    "backgroundfiles = {\n",
    "    \"Mint\": \"bg1\",\n",
    "    \"Baby Cyan\": \"bg2\",\n",
    "    \"Baby Yellow\": \"bg3\",\n",
    "    \"Baby Pink\": \"bg4\",\n",
    "    \"Grey\": \"bg5\",\n",
    "    \"Baby Blue\": \"bg6\"\n",
    "}\n",
    "\n",
    "bodyfiles = {\n",
    "    \"Blue\" : \"body1\",\n",
    "    \"Pink\" : \"body2\",\n",
    "    \"Cyan\" : \"body3\",\n",
    "    \"Orange\" : \"body4\",\n",
    "    \"Pink Purple\" : \"body5\",\n",
    "    \"White\" : \"body6\",\n",
    "    \"Cyan Blue\" : \"body7\",\n",
    "    \"Koi\" : \"body8\",\n",
    "    \"Calico\" : \"body9\",\n",
    "    \"Dalmation\" : \"body10\",\n",
    "    \"Black\" : \"body11\"\n",
    "}\n",
    "\n",
    "fipperfiles = { \n",
    "    \"Blue\" : \"fipper1\",\n",
    "    \"Pink\" : \"fipper2\",\n",
    "    \"Cyan\" : \"fipper3\",\n",
    "    \"Pink Purple\" : \"fipper4\",\n",
    "    \"Orange\" : \"fipper5\",\n",
    "    \"White\" : \"fipper6\",\n",
    "    \"Cyan Blue\" : \"fipper7\",\n",
    "    \"Black\" : \"fipper8\"    \n",
    "}\n",
    "\n",
    "headfiles = {\n",
    "    \"Holy Water\" : \"head1\",\n",
    "    \"Smoke\" : \"head2\",\n",
    "    \"Smoke Ring\" : \"head3\",\n",
    "    \"Fountain\" : \"head4\",\n",
    "    \"None\" : \"head5\"\n",
    "}\n",
    "\n",
    "\n",
    "\n",
    "    \n"
   ]
  },
  {
   "cell_type": "code",
   "execution_count": 33,
   "metadata": {},
   "outputs": [],
   "source": [
    "## TRAIT GENERATION\n",
    "\n",
    "TOTAL_WHALES = 15\n",
    "\n",
    "traits = []\n",
    "\n",
    "def createCombo():\n",
    "    \n",
    "    trait = {}\n",
    "\n",
    "    trait[\"Background\"] = random.choices(background, backgroundweights)[0]\n",
    "    trait[\"Body\"] = random.choices(body, bodyweights)[0]\n",
    "    trait[\"Fipper\"] = random.choices(fipper, fipperweights)[0]\n",
    "    trait[\"Head\"] = random.choices(head, headweights)[0]\n",
    "    \n",
    "    if trait in traits:\n",
    "        return createCombo()\n",
    "    else:\n",
    "        return trait\n",
    "    \n",
    "for i in range(TOTAL_WHALES):\n",
    "    \n",
    "    newtraitcombo = createCombo()\n",
    "    \n",
    "    traits.append(newtraitcombo)\n",
    "    \n"
   ]
  },
  {
   "cell_type": "code",
   "execution_count": 34,
   "metadata": {},
   "outputs": [
    {
     "name": "stdout",
     "output_type": "stream",
     "text": [
      "True\n"
     ]
    }
   ],
   "source": [
    "## ARE ALL BANANAS UNIQUE? I DUNNO HOW THIS WORKS BUT IT WORKS\n",
    "def allUnique(x):\n",
    "    seen = list()\n",
    "    return not any(i in seen or seen.append(i) for i in x)\n",
    "\n",
    "print(allUnique(traits))"
   ]
  },
  {
   "cell_type": "code",
   "execution_count": 35,
   "metadata": {},
   "outputs": [],
   "source": [
    "# ADD TOKEN IDS TO JSON\n",
    "\n",
    "i = 0\n",
    "for item in traits:\n",
    "    item[\"tokenId\"] = i\n",
    "    i = i + 1"
   ]
  },
  {
   "cell_type": "code",
   "execution_count": 36,
   "metadata": {},
   "outputs": [
    {
     "name": "stdout",
     "output_type": "stream",
     "text": [
      "[{'Background': 'Baby Pink', 'Body': 'White', 'Fipper': 'White', 'Head': 'Smoke Ring', 'tokenId': 0}, {'Background': 'Mint', 'Body': 'Pink', 'Fipper': 'Pink', 'Head': 'Fountain', 'tokenId': 1}, {'Background': 'Mint', 'Body': 'Pink', 'Fipper': 'Pink', 'Head': 'None', 'tokenId': 2}, {'Background': 'Baby Yellow', 'Body': 'Orange', 'Fipper': 'Orange', 'Head': 'Smoke Ring', 'tokenId': 3}, {'Background': 'Mint', 'Body': 'Cyan Blue', 'Fipper': 'Cyan Blue', 'Head': 'None', 'tokenId': 4}, {'Background': 'Baby Cyan', 'Body': 'Koi', 'Fipper': 'Koi', 'Head': 'None', 'tokenId': 5}, {'Background': 'Baby Blue', 'Body': 'Black', 'Fipper': 'Black', 'Head': 'Fountain', 'tokenId': 6}, {'Background': 'Baby Pink', 'Body': 'Pink Purple', 'Fipper': 'Pink Purple', 'Head': 'Fountain', 'tokenId': 7}, {'Background': 'Baby Pink', 'Body': 'Pink', 'Fipper': 'Pink', 'Head': 'Smoke', 'tokenId': 8}, {'Background': 'Baby Cyan', 'Body': 'Pink', 'Fipper': 'Pink', 'Head': 'Fountain', 'tokenId': 9}, {'Background': 'Grey', 'Body': 'Blue', 'Fipper': 'Blue', 'Head': 'Fountain', 'tokenId': 10}, {'Background': 'Baby Yellow', 'Body': 'Black', 'Fipper': 'Black', 'Head': 'None', 'tokenId': 11}, {'Background': 'Mint', 'Body': 'Pink Purple', 'Fipper': 'Pink Purple', 'Head': 'None', 'tokenId': 12}, {'Background': 'Baby Yellow', 'Body': 'Blue', 'Fipper': 'Blue', 'Head': 'None', 'tokenId': 13}, {'Background': 'Baby Cyan', 'Body': 'Cyan', 'Fipper': 'Cyan', 'Head': 'None', 'tokenId': 14}]\n"
     ]
    }
   ],
   "source": [
    "# PRINT THE SHIT\n",
    "\n",
    "print(traits)"
   ]
  },
  {
   "cell_type": "code",
   "execution_count": 40,
   "metadata": {},
   "outputs": [
    {
     "ename": "KeyError",
     "evalue": "'Koi'",
     "output_type": "error",
     "traceback": [
      "\u001b[1;31m---------------------------------------------------------------------------\u001b[0m",
      "\u001b[1;31mKeyError\u001b[0m                                  Traceback (most recent call last)",
      "\u001b[1;32m~\\AppData\\Local\\Temp/ipykernel_21660/2935743011.py\u001b[0m in \u001b[0;36m<module>\u001b[1;34m\u001b[0m\n\u001b[0;32m     28\u001b[0m         \u001b[0mbackgroundcounts\u001b[0m\u001b[1;33m[\u001b[0m\u001b[0mwhale\u001b[0m\u001b[1;33m[\u001b[0m\u001b[1;34m\"Background\"\u001b[0m\u001b[1;33m]\u001b[0m\u001b[1;33m]\u001b[0m \u001b[1;33m+=\u001b[0m \u001b[1;36m1\u001b[0m\u001b[1;33m\u001b[0m\u001b[1;33m\u001b[0m\u001b[0m\n\u001b[0;32m     29\u001b[0m         \u001b[0mbodycounts\u001b[0m\u001b[1;33m[\u001b[0m\u001b[0mwhale\u001b[0m\u001b[1;33m[\u001b[0m\u001b[1;34m\"Body\"\u001b[0m\u001b[1;33m]\u001b[0m\u001b[1;33m]\u001b[0m \u001b[1;33m+=\u001b[0m \u001b[1;36m1\u001b[0m\u001b[1;33m\u001b[0m\u001b[1;33m\u001b[0m\u001b[0m\n\u001b[1;32m---> 30\u001b[1;33m         \u001b[0mfippercounts\u001b[0m\u001b[1;33m[\u001b[0m\u001b[0mwhale\u001b[0m\u001b[1;33m[\u001b[0m\u001b[1;34m\"Fipper\"\u001b[0m\u001b[1;33m]\u001b[0m\u001b[1;33m]\u001b[0m \u001b[1;33m+=\u001b[0m \u001b[1;36m1\u001b[0m\u001b[1;33m\u001b[0m\u001b[1;33m\u001b[0m\u001b[0m\n\u001b[0m\u001b[0;32m     31\u001b[0m         \u001b[0mheadcounts\u001b[0m\u001b[1;33m[\u001b[0m\u001b[0mwhale\u001b[0m\u001b[1;33m[\u001b[0m\u001b[1;34m\"Head\"\u001b[0m\u001b[1;33m]\u001b[0m\u001b[1;33m]\u001b[0m \u001b[1;33m+=\u001b[0m \u001b[1;36m1\u001b[0m\u001b[1;33m\u001b[0m\u001b[1;33m\u001b[0m\u001b[0m\n\u001b[0;32m     32\u001b[0m \u001b[1;33m\u001b[0m\u001b[0m\n",
      "\u001b[1;31mKeyError\u001b[0m: 'Koi'"
     ]
    }
   ],
   "source": [
    "# GET TRAIT COUNTS\n",
    "\n",
    "backgroundcounts = {}\n",
    "for item in background:\n",
    "    backgroundcounts[item] = 0\n",
    "    \n",
    "bodycounts = {}\n",
    "for item in body:\n",
    "    bodycounts[item] = 0\n",
    "    \n",
    "fippercounts = {}\n",
    "for item in fipper:\n",
    "    fippercounts[item] = 0\n",
    "    \n",
    "headcounts = {}\n",
    "for item in head:\n",
    "    headcounts[item] = 0\n",
    "    \n",
    "oneofonecounts = 0\n",
    "\n",
    "signatures = [137,883,1327,1781,2528,2763,3833,5568,5858,6585,6812,7154,8412]\n",
    "\n",
    "for whale in traits:\n",
    "    if whale[\"tokenId\"] in signatures:\n",
    "        oneofonecounts += 1\n",
    "    else:    \n",
    "#     print(banana)\n",
    "        backgroundcounts[whale[\"Background\"]] += 1\n",
    "        bodycounts[whale[\"Body\"]] += 1\n",
    "        fippercounts[whale[\"Fipper\"]] += 1\n",
    "        headcounts[whale[\"Head\"]] += 1\n",
    "    \n",
    "print(\"background:\", backgroundcounts)\n",
    "print(\"body:\", bodycounts)\n",
    "print(\"fipper:\", fippercounts)\n",
    "print(\"head:\", headcounts)\n",
    "print(\"1/1:\",oneofonecounts)"
   ]
  },
  {
   "cell_type": "code",
   "execution_count": 25,
   "metadata": {},
   "outputs": [],
   "source": [
    "# WRITE METADATA TO JSON FILE\n",
    "\n",
    "with open('traits2.json', 'w') as outfile:\n",
    "    json.dump(traits, outfile, indent=4)"
   ]
  },
  {
   "cell_type": "code",
   "execution_count": 30,
   "metadata": {},
   "outputs": [
    {
     "data": {
      "text/plain": [
       "[{'Background': 'Baby Cyan',\n",
       "  'Body': 'Koi',\n",
       "  'Fipper': 'Koi',\n",
       "  'Head': 'Holy Water'},\n",
       " {'Background': 'Mint',\n",
       "  'Body': 'Pink',\n",
       "  'Fipper': 'Pink',\n",
       "  'Head': 'Smoke Ring'},\n",
       " {'Background': 'Baby Yellow',\n",
       "  'Body': 'Orange',\n",
       "  'Fipper': 'Orange',\n",
       "  'Head': 'None'},\n",
       " {'Background': 'Baby Cyan',\n",
       "  'Body': 'Cyan Blue',\n",
       "  'Fipper': 'Cyan Blue',\n",
       "  'Head': 'Smoke'},\n",
       " {'Background': 'Baby Blue', 'Body': 'Blue', 'Fipper': 'Blue', 'Head': 'None'},\n",
       " {'Background': 'Baby Cyan', 'Body': 'Blue', 'Fipper': 'Blue', 'Head': 'None'},\n",
       " {'Background': 'Mint', 'Body': 'Black', 'Fipper': 'Black', 'Head': 'None'},\n",
       " {'Background': 'Mint',\n",
       "  'Body': 'Orange',\n",
       "  'Fipper': 'Orange',\n",
       "  'Head': 'Smoke Ring'},\n",
       " {'Background': 'Baby Yellow',\n",
       "  'Body': 'Black',\n",
       "  'Fipper': 'Black',\n",
       "  'Head': 'None'},\n",
       " {'Background': 'Baby Cyan',\n",
       "  'Body': 'Calico',\n",
       "  'Fipper': 'Calico',\n",
       "  'Head': 'None'},\n",
       " {'Background': 'Mint', 'Body': 'White', 'Fipper': 'White', 'Head': 'None'},\n",
       " {'Background': 'Baby Blue',\n",
       "  'Body': 'White',\n",
       "  'Fipper': 'White',\n",
       "  'Head': 'None'},\n",
       " {'Background': 'Baby Yellow',\n",
       "  'Body': 'Black',\n",
       "  'Fipper': 'Black',\n",
       "  'Head': 'Smoke Ring'},\n",
       " {'Background': 'Baby Cyan',\n",
       "  'Body': 'Cyan',\n",
       "  'Fipper': 'Cyan',\n",
       "  'Head': 'Holy Water'},\n",
       " {'Background': 'Grey',\n",
       "  'Body': 'Dalmation',\n",
       "  'Fipper': 'Dalmation',\n",
       "  'Head': 'None'}]"
      ]
     },
     "execution_count": 30,
     "metadata": {},
     "output_type": "execute_result"
    }
   ],
   "source": [
    "traits"
   ]
  },
  {
   "cell_type": "code",
   "execution_count": 39,
   "metadata": {},
   "outputs": [
    {
     "name": "stdout",
     "output_type": "stream",
     "text": [
      "0 done\n",
      "1 done\n",
      "2 done\n",
      "3 done\n",
      "4 done\n",
      "5 done\n",
      "6 done\n",
      "7 done\n",
      "8 done\n",
      "9 done\n",
      "10 done\n",
      "11 done\n",
      "12 done\n",
      "13 done\n",
      "14 done\n"
     ]
    }
   ],
   "source": [
    "#### IMAGE GENERATION\n",
    "    \n",
    "for item in traits:\n",
    "\n",
    "    im1 = Image.open(f'./bg/{backgroundfiles[item[\"Background\"]]}.png').convert('RGBA')\n",
    "    im2 = Image.open(f'./body/{bodyfiles[item[\"Body\"]]}.png').convert('RGBA')\n",
    "    im3 = Image.open(f'./fipper/{fipperfiles[item[\"Fipper\"]]}.png').convert('RGBA')\n",
    "    im4 = Image.open(f'./head/{headfiles[item[\"Head\"]]}.png').convert('RGBA')\n",
    "\n",
    "    im1 = (im1.resize((3300,3300), Image.NEAREST))\n",
    "    im2 = (im2.resize((3300,3300), Image.NEAREST))\n",
    "    im3 = (im3.resize((3300,3300), Image.NEAREST))\n",
    "    im4 = (im4.resize((3300,3300), Image.NEAREST))\n",
    "\n",
    "\n",
    "    #Create each composite\n",
    "    com1 = Image.alpha_composite(im1, im2)\n",
    "    com2 = Image.alpha_composite(com1, im3)\n",
    "    com3 = Image.alpha_composite(com2, im4)\n",
    "\n",
    "    #Convert to RGB\n",
    "    rgb_im = com3.convert('RGB')\n",
    "#     display(rgb_im.resize((400,400), Image.NEAREST))\n",
    "\n",
    "    file_name = str(item[\"tokenId\"]) + \".png\"\n",
    "    rgb_im.save(\"./output/\" + file_name)\n",
    "    print(f'{str(item[\"tokenId\"])} done')\n",
    "    \n",
    "    "
   ]
  },
  {
   "cell_type": "code",
   "execution_count": null,
   "metadata": {},
   "outputs": [],
   "source": [
    "# READ METADATA IF YOU ALREADY HAVE A JSON FILE\n",
    "\n",
    "with open(\"traitsfinal.json\", 'r') as f:\n",
    "        traits = json.load(f)"
   ]
  },
  {
   "cell_type": "code",
   "execution_count": null,
   "metadata": {},
   "outputs": [],
   "source": [
    "traits[2050]"
   ]
  },
  {
   "cell_type": "code",
   "execution_count": null,
   "metadata": {},
   "outputs": [],
   "source": [
    "flip_ids = [8057, 8835, 8880, 6612, 5788, 8333, 2173, 8704, 7351, 6671, 4847, 5575, 4864, 2418, 2944, 5845, 552, 1161, 2390, 4383, 8126, 439, 1055, 3435, 7957, 1209, 6438, 6578, 6244, 3490, 4149, 8510, 113, 7193, 5728, 4731, 810, 2949, 3158, 1475, 1242, 4137, 7112, 5852, 7845, 3493, 377, 4272, 5494, 2919, 6818, 2828, 1089, 4914, 5054, 160, 3991, 7625, 6265, 8160, 7331, 4802, 1442, 3850, 171, 3469, 193, 7171, 6328, 5852, 6504, 6639, 2637, 1918, 8607, 4460, 5257, 926, 6114, 8428, 8173, 4565, 5857, 2021, 430, 7708, 4799, 8065, 1609, 4807, 5802, 3371, 8722, 5594, 3034, 2087, 3684, 7878, 7908]"
   ]
  },
  {
   "cell_type": "code",
   "execution_count": null,
   "metadata": {},
   "outputs": [],
   "source": [
    "for m in flip_ids:\n",
    "    img = Image.open(f'./output/{str(m)}.jpg')\n",
    "    im_mirror = ImageOps.mirror(img)\n",
    "    im_mirror.save(f'./flipped/{str(m)}.jpg')"
   ]
  },
  {
   "cell_type": "code",
   "execution_count": null,
   "metadata": {},
   "outputs": [],
   "source": [
    "balds = [4378, 7459, 6945, 4644, 5999, 6337, 6675, 4179, 8467, 5482, 4531, 2016, 3790, 1305, 355]\n",
    "\n",
    "for bald in balds:\n",
    "    traits[bald][\"Head Gear\"] = \"None\"\n",
    "    \n",
    "#### BALDS\n",
    "    \n",
    "for bald in balds:\n",
    "    \n",
    "    item = traits[bald]\n",
    "    \n",
    "    im1 = Image.open(f'./Backgrounds/{backgroundfiles[item[\"Background\"]]}.jpg').convert('RGBA')\n",
    "    im2 = Image.open(f'./Bananas/{bananafiles[item[\"Banana Base\"]]}.png').convert('RGBA')\n",
    "    im3 = Image.open(f'./Mouths/{mouthfiles[item[\"Mouth\"]]}.png').convert('RGBA')\n",
    "    im4 = Image.open(f'./Eyes/{eyefiles[item[\"Eyes\"]]}.png').convert('RGBA')\n",
    "#     im5 = Image.open(f'./Headgear/{headgearfiles[item[\"Head Gear\"]]}.png').convert('RGBA')\n",
    "\n",
    "\n",
    "    #Create each composite\n",
    "    com1 = Image.alpha_composite(im1, im2)\n",
    "    com2 = Image.alpha_composite(com1, im3)\n",
    "    com3 = Image.alpha_composite(com2, im4)\n",
    "#     com4 = Image.alpha_composite(com3, im5)\n",
    "\n",
    "    #Convert to RGB\n",
    "    rgb_im = com3.convert('RGB')\n",
    "#     display(rgb_im.resize((400,400), Image.NEAREST))\n",
    "\n",
    "    file_name = str(item[\"tokenId\"]) + \".jpg\"\n",
    "    rgb_im.save(\"./balds/\" + file_name)\n",
    "    print(f'{str(item[\"tokenId\"])} done')\n",
    "    "
   ]
  },
  {
   "cell_type": "code",
   "execution_count": null,
   "metadata": {},
   "outputs": [],
   "source": []
  },
  {
   "cell_type": "code",
   "execution_count": null,
   "metadata": {},
   "outputs": [],
   "source": [
    "madboogielogos = [ 1334, 8120, 3430, 3439, 4175, 7710, 1842, 2428, 3553, 4764, 3439 ]"
   ]
  },
  {
   "cell_type": "code",
   "execution_count": null,
   "metadata": {},
   "outputs": [],
   "source": [
    "for logo in madboogielogos:\n",
    "\n",
    "    im1 = Image.open(f'./output2/{logo}.jpg').convert('RGBA')\n",
    "    im2 = Image.open(f'./Logo_static.png').convert('RGBA')\n",
    "    com1 = Image.alpha_composite(im1, im2).convert('RGB')\n",
    "    com1.save(f'./boogielogo/{logo}.jpg')"
   ]
  },
  {
   "cell_type": "code",
   "execution_count": null,
   "metadata": {},
   "outputs": [],
   "source": []
  },
  {
   "cell_type": "code",
   "execution_count": null,
   "metadata": {},
   "outputs": [],
   "source": []
  },
  {
   "cell_type": "code",
   "execution_count": null,
   "metadata": {},
   "outputs": [],
   "source": [
    "traits"
   ]
  },
  {
   "cell_type": "code",
   "execution_count": null,
   "metadata": {},
   "outputs": [],
   "source": [
    "with open('traitsfinal.json', 'w') as outfile:\n",
    "    json.dump(traits, outfile, indent=4)"
   ]
  },
  {
   "cell_type": "code",
   "execution_count": null,
   "metadata": {},
   "outputs": [],
   "source": []
  }
 ],
 "metadata": {
  "kernelspec": {
   "display_name": "Python 3 (ipykernel)",
   "language": "python",
   "name": "python3"
  },
  "language_info": {
   "codemirror_mode": {
    "name": "ipython",
    "version": 3
   },
   "file_extension": ".py",
   "mimetype": "text/x-python",
   "name": "python",
   "nbconvert_exporter": "python",
   "pygments_lexer": "ipython3",
   "version": "3.9.6"
  }
 },
 "nbformat": 4,
 "nbformat_minor": 4
}
